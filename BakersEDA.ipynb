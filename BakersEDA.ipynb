{
 "cells": [
  {
   "cell_type": "markdown",
   "metadata": {},
   "source": [
    "### This is the Bakers Logistics EDA"
   ]
  },
  {
   "cell_type": "code",
   "execution_count": 1,
   "metadata": {},
   "outputs": [],
   "source": [
    "import matplotlib.pyplot as plt"
   ]
  },
  {
   "cell_type": "code",
   "execution_count": 2,
   "metadata": {},
   "outputs": [],
   "source": [
    "import xlrd"
   ]
  },
  {
   "cell_type": "code",
   "execution_count": 3,
   "metadata": {},
   "outputs": [],
   "source": [
    "import sys\n",
    "import re\n",
    "import pandas as pd\n",
    "import numpy as np"
   ]
  },
  {
   "cell_type": "code",
   "execution_count": 4,
   "metadata": {},
   "outputs": [],
   "source": [
    "import datetime"
   ]
  },
  {
   "cell_type": "code",
   "execution_count": 5,
   "metadata": {},
   "outputs": [],
   "source": [
    "data_path='/media/lnr-ai/christo/github_repos/logistics/data/'"
   ]
  },
  {
   "cell_type": "code",
   "execution_count": 6,
   "metadata": {},
   "outputs": [],
   "source": [
    "def intersection(lst1, lst2): \n",
    "    lst3 = [value for value in lst1 if value in lst2] \n",
    "    return lst3 "
   ]
  },
  {
   "cell_type": "markdown",
   "metadata": {},
   "source": [
    "### Bakers data files"
   ]
  },
  {
   "cell_type": "code",
   "execution_count": 7,
   "metadata": {},
   "outputs": [
    {
     "data": {
      "text/plain": [
       "['Accident Log.xlsx',\n",
       " 'Asset Master.xlsx',\n",
       " 'AssetMaster.csv (txt)',\n",
       " 'Asset_Types.csv (txt)',\n",
       " 'Bakers_Events.csv',\n",
       " 'Copy of Accident Log.xlsx',\n",
       " 'data pipe delimited.csv',\n",
       " 'Driver Master.xlsx',\n",
       " 'Drivers.csv (txt)',\n",
       " 'driver_event_train_df.csv',\n",
       " 'Events Library Master.xlsx',\n",
       " 'Events.csv (txt)',\n",
       " 'Events.xlsx',\n",
       " 'Event_Library.csv (txt)',\n",
       " 'Fuel Consumption & Events Data (1).xlsx',\n",
       " 'Fuel Consumption & Events Data (2).xlsx',\n",
       " 'Fuel Consumption & Events Data (3).xlsx',\n",
       " 'Organisation.csv (txt)',\n",
       " 'Position.xlsx',\n",
       " 'Product.csv',\n",
       " 'Product.xlsx',\n",
       " 'Site.csv (txt)',\n",
       " 'Trips.csv (txt)',\n",
       " 'Trips.xlsx']"
      ]
     },
     "execution_count": 7,
     "metadata": {},
     "output_type": "execute_result"
    }
   ],
   "source": [
    "from os import listdir\n",
    "from os.path import isfile, join\n",
    "onlyfiles = [f for f in listdir(data_path) if isfile(join(data_path, f))]\n",
    "onlyfiles"
   ]
  },
  {
   "cell_type": "code",
   "execution_count": 8,
   "metadata": {},
   "outputs": [],
   "source": [
    "originalflist=['Asset Master.xlsx',\n",
    " 'Driver Master.xlsx',\n",
    " 'Events Library Master.xlsx',\n",
    " 'Events.xlsx',\n",
    " 'Fuel Consumption & Events Data (1).xlsx',\n",
    " 'Position.xlsx',\n",
    " 'Trips.xlsx']"
   ]
  },
  {
   "cell_type": "code",
   "execution_count": 9,
   "metadata": {},
   "outputs": [],
   "source": [
    "newflist=[\n",
    " 'AssetMaster.csv (txt)',\n",
    " 'Asset_Types.csv (txt)',\n",
    " 'Drivers.csv (txt)',\n",
    " 'Events.csv (txt)',\n",
    " 'Event_Library.csv (txt)',\n",
    " 'Organisation.csv (txt)',\n",
    " 'Site.csv (txt)',\n",
    " 'Trips.csv (txt)']"
   ]
  },
  {
   "cell_type": "markdown",
   "metadata": {},
   "source": [
    "### The drivers master file"
   ]
  },
  {
   "cell_type": "code",
   "execution_count": 10,
   "metadata": {},
   "outputs": [],
   "source": [
    "filename='Driver Master.xlsx'\n",
    "driver_master_df=pd.read_excel('/media/lnr-ai/christo/github_repos/logistics/data/{filename}'.format(filename=filename), sheet_name='Sheet1')"
   ]
  },
  {
   "cell_type": "code",
   "execution_count": 11,
   "metadata": {},
   "outputs": [
    {
     "data": {
      "text/plain": [
       "['GroupId',\n",
       " 'Organisation Name',\n",
       " 'Source',\n",
       " 'Driver Name',\n",
       " 'DriverId',\n",
       " 'EmployeeNumber',\n",
       " 'ExtendedDriverIdType',\n",
       " 'FmDriverId',\n",
       " 'IsSystemDriver',\n",
       " 'MobileNumber']"
      ]
     },
     "execution_count": 11,
     "metadata": {},
     "output_type": "execute_result"
    }
   ],
   "source": [
    "list(driver_master_df)"
   ]
  },
  {
   "cell_type": "markdown",
   "metadata": {},
   "source": [
    "### Load the events log:"
   ]
  },
  {
   "cell_type": "code",
   "execution_count": 12,
   "metadata": {},
   "outputs": [
    {
     "name": "stderr",
     "output_type": "stream",
     "text": [
      "/home/lnr-ai/.local/lib/python3.7/site-packages/IPython/core/interactiveshell.py:3063: DtypeWarning: Columns (18) have mixed types.Specify dtype option on import or set low_memory=False.\n",
      "  interactivity=interactivity, compiler=compiler, result=result)\n"
     ]
    }
   ],
   "source": [
    "fname='Bakers_Events.csv'\n",
    "bakers_events_raw_df=pd.read_csv(filepath_or_buffer='/media/lnr-ai/christo/github_repos/logistics/data/{fname}'.format(fname=fname))"
   ]
  },
  {
   "cell_type": "code",
   "execution_count": 13,
   "metadata": {},
   "outputs": [],
   "source": [
    "bakers_events_list=['EventTypeId',\n",
    " 'DriverId_u0',\n",
    " 'Source',\n",
    " 'GroupId',\n",
    " 'AssetId_u0',\n",
    " 'EventId',\n",
    " 'EventDateTime',\n",
    " 'OdometerKilometres_u0',\n",
    " 'OdometerKilometresEnd_u0',\n",
    " 'EventLatitude',\n",
    " 'EventLongitude',\n",
    " 'EventSpeed',\n",
    " 'Value',\n",
    " 'EventTotalTime',\n",
    " '__KEY_root',\n",
    " 'Armed',\n",
    " 'Priority',\n",
    " 'Name',\n",
    " 'EmployeeNumber',\n",
    " 'Event Description']"
   ]
  },
  {
   "cell_type": "code",
   "execution_count": 14,
   "metadata": {},
   "outputs": [],
   "source": [
    "rename_columns={'EventLatitude':'EventLongitude','EventLongitude':'EventLatitude'}\n",
    "bakers_events_raw_df.rename(columns=rename_columns,inplace=True)"
   ]
  },
  {
   "cell_type": "code",
   "execution_count": 15,
   "metadata": {},
   "outputs": [],
   "source": [
    "geo_filter=(bakers_events_raw_df.EventLatitude>0)&(bakers_events_raw_df.EventLongitude>-40)&(bakers_events_raw_df.EventLongitude<-22)\n",
    "bakers_events_df=bakers_events_raw_df[geo_filter].copy()"
   ]
  },
  {
   "cell_type": "code",
   "execution_count": 16,
   "metadata": {},
   "outputs": [
    {
     "data": {
      "text/plain": [
       "['EventTypeId',\n",
       " 'DriverId_u0',\n",
       " 'Source',\n",
       " 'GroupId',\n",
       " 'AssetId_u0',\n",
       " 'EventId',\n",
       " 'EventDateTime',\n",
       " 'OdometerKilometres_u0',\n",
       " 'OdometerKilometresEnd_u0',\n",
       " 'EventLongitude',\n",
       " 'EventLatitude',\n",
       " 'EventSpeed',\n",
       " 'Value',\n",
       " 'EventTotalTime',\n",
       " '__KEY_root',\n",
       " 'Armed',\n",
       " 'Priority',\n",
       " 'Name',\n",
       " 'EmployeeNumber',\n",
       " 'Event Description']"
      ]
     },
     "execution_count": 16,
     "metadata": {},
     "output_type": "execute_result"
    }
   ],
   "source": [
    "list(bakers_events_raw_df)"
   ]
  },
  {
   "cell_type": "markdown",
   "metadata": {},
   "source": [
    "Create a list of unique employees in the bakers_events dataframe:"
   ]
  },
  {
   "cell_type": "code",
   "execution_count": 17,
   "metadata": {},
   "outputs": [],
   "source": [
    "event_employee_list=list(set(bakers_events_df[~bakers_events_df['EmployeeNumber'].isnull()]['EmployeeNumber']))"
   ]
  },
  {
   "cell_type": "markdown",
   "metadata": {},
   "source": [
    "### Time conversions"
   ]
  },
  {
   "cell_type": "markdown",
   "metadata": {},
   "source": [
    "Here we are interested in two new columns, __dayofweek__ which indicates which exactly that and __EventDaySeconds__ which is the time of day expressed in seconds."
   ]
  },
  {
   "cell_type": "markdown",
   "metadata": {},
   "source": [
    "Convert the EventDateTime column into a pandas datetime object and create two new columns, one being date and the other time only."
   ]
  },
  {
   "cell_type": "code",
   "execution_count": 18,
   "metadata": {},
   "outputs": [],
   "source": [
    "# Remove 'T' from the Event Date Time column:\n",
    "bakers_events_df['EventDateTime']=bakers_events_df['EventDateTime'].str.replace('T', ' ', regex=False)\n",
    "# Remove '.000' from the Event Date Time column:\n",
    "bakers_events_df['EventDateTime']=bakers_events_df['EventDateTime'].str.replace('.000', '', regex=False)\n",
    "bakers_events_df['EventDateTime_Conv']=bakers_events_df['EventDateTime'].apply(lambda x: (datetime.datetime.strptime(x, \"%Y-%m-%d %H:%M:%S\")))\n",
    "bakers_events_df['EventDateTimeSeconds']=bakers_events_df['EventDateTime_Conv'].astype(int)\n",
    "# Create date and time columns from EventDateTime:\n",
    "bakers_events_df[['EventDate','EventTime']]=bakers_events_df['EventDateTime'].str.split(' ', expand=True)"
   ]
  },
  {
   "cell_type": "code",
   "execution_count": 19,
   "metadata": {},
   "outputs": [],
   "source": [
    "bakers_events_df['EventDate']=bakers_events_df['EventDate'].apply(lambda x: (datetime.datetime.strptime(x, \"%Y-%m-%d\")))"
   ]
  },
  {
   "cell_type": "markdown",
   "metadata": {},
   "source": [
    "Create the EventDateSeconds column.  This is the number of seconds since the start of the day.  From here we can work out the time of day for any event."
   ]
  },
  {
   "cell_type": "code",
   "execution_count": 20,
   "metadata": {},
   "outputs": [],
   "source": [
    "bakers_events_df['EventDateSeconds']=bakers_events_df['EventDate'].astype(int)\n",
    "bakers_events_df['EventDateSeconds']=bakers_events_df['EventDateSeconds'].astype(int)"
   ]
  },
  {
   "cell_type": "code",
   "execution_count": 21,
   "metadata": {},
   "outputs": [
    {
     "data": {
      "text/plain": [
       "0          1598054400000000000\n",
       "1          1601942400000000000\n",
       "2          1601942400000000000\n",
       "3          1601942400000000000\n",
       "4          1601942400000000000\n",
       "                  ...         \n",
       "2048628    1590969600000000000\n",
       "2048629    1592524800000000000\n",
       "2048630    1590969600000000000\n",
       "2048631    1597449600000000000\n",
       "2048632    1596153600000000000\n",
       "Name: EventDateSeconds, Length: 2023172, dtype: int64"
      ]
     },
     "execution_count": 21,
     "metadata": {},
     "output_type": "execute_result"
    }
   ],
   "source": [
    "bakers_events_df['EventDateSeconds']"
   ]
  },
  {
   "cell_type": "code",
   "execution_count": 22,
   "metadata": {},
   "outputs": [],
   "source": [
    "bakers_events_df['EventDaySeconds']=(bakers_events_df['EventDateTimeSeconds']-bakers_events_df['EventDateSeconds'])/10e8\n",
    "bakers_events_df['EventDaySeconds']=bakers_events_df['EventDaySeconds'].astype(int)"
   ]
  },
  {
   "cell_type": "code",
   "execution_count": 23,
   "metadata": {},
   "outputs": [
    {
     "data": {
      "text/plain": [
       "0          44604\n",
       "1          61225\n",
       "2          59424\n",
       "3          61213\n",
       "4          58972\n",
       "           ...  \n",
       "2048628    50809\n",
       "2048629    74440\n",
       "2048630    65076\n",
       "2048631    30278\n",
       "2048632    56060\n",
       "Name: EventDaySeconds, Length: 2023172, dtype: int64"
      ]
     },
     "execution_count": 23,
     "metadata": {},
     "output_type": "execute_result"
    }
   ],
   "source": [
    "bakers_events_df['EventDaySeconds']"
   ]
  },
  {
   "cell_type": "code",
   "execution_count": 24,
   "metadata": {},
   "outputs": [],
   "source": [
    "bakers_events_df['dayofweek']=bakers_events_df['EventDateTime_Conv'].dt.dayofweek"
   ]
  },
  {
   "cell_type": "markdown",
   "metadata": {},
   "source": [
    "### Geolocational data:\n"
   ]
  },
  {
   "cell_type": "markdown",
   "metadata": {},
   "source": [
    "Plot the positional data of all events:"
   ]
  },
  {
   "cell_type": "code",
   "execution_count": 25,
   "metadata": {},
   "outputs": [],
   "source": [
    "minEventLatitude=min(bakers_events_df['EventLatitude'])\n",
    "maxEventLatitude=max(bakers_events_df['EventLatitude'])"
   ]
  },
  {
   "cell_type": "code",
   "execution_count": 26,
   "metadata": {},
   "outputs": [],
   "source": [
    "minEventLatitude=min(bakers_events_df['EventLongitude'])\n",
    "maxEventLatitude=max(bakers_events_df['EventLongitude'])"
   ]
  },
  {
   "cell_type": "code",
   "execution_count": 27,
   "metadata": {},
   "outputs": [],
   "source": [
    "BBox = ((bakers_events_df.EventLongitude.min(),   bakers_events_df.EventLongitude.max(),      \n",
    "         bakers_events_df.EventLatitude.min(), bakers_events_df.EventLatitude.max()))"
   ]
  },
  {
   "cell_type": "code",
   "execution_count": 28,
   "metadata": {},
   "outputs": [
    {
     "data": {
      "text/plain": [
       "(-34.8235015869141, -22.0001659393311, 14.278095457702902, 32.7624740600586)"
      ]
     },
     "execution_count": 28,
     "metadata": {},
     "output_type": "execute_result"
    }
   ],
   "source": [
    "BBox"
   ]
  },
  {
   "cell_type": "code",
   "execution_count": 29,
   "metadata": {},
   "outputs": [
    {
     "data": {
      "text/plain": [
       "14.278095457702902"
      ]
     },
     "execution_count": 29,
     "metadata": {},
     "output_type": "execute_result"
    }
   ],
   "source": [
    "bakers_events_df.EventLatitude.min()"
   ]
  },
  {
   "cell_type": "code",
   "execution_count": 30,
   "metadata": {},
   "outputs": [
    {
     "data": {
      "text/plain": [
       "(-34.8235015869141, -22.0001659393311, 14.278095457702902, 32.7624740600586)"
      ]
     },
     "execution_count": 30,
     "metadata": {},
     "output_type": "execute_result"
    }
   ],
   "source": [
    "BBox"
   ]
  },
  {
   "cell_type": "code",
   "execution_count": 31,
   "metadata": {},
   "outputs": [
    {
     "data": {
      "text/plain": [
       "array([[<AxesSubplot:title={'center':'EventLongitude'}>]], dtype=object)"
      ]
     },
     "execution_count": 31,
     "metadata": {},
     "output_type": "execute_result"
    },
    {
     "data": {
      "image/png": "[encoded data removed]",
      "text/plain": [
       "<Figure size 432x288 with 1 Axes>"
      ]
     },
     "metadata": {
      "needs_background": "light"
     },
     "output_type": "display_data"
    }
   ],
   "source": [
    "bakers_events_df.hist(column='EventLongitude', by=None, grid=True, xlabelsize=None, xrot=None, ylabelsize=None, yrot=None, ax=None, sharex=False, sharey=False, figsize=None, layout=None, bins=50, backend=None)"
   ]
  },
  {
   "cell_type": "code",
   "execution_count": 32,
   "metadata": {},
   "outputs": [
    {
     "data": {
      "text/plain": [
       "array([[<AxesSubplot:title={'center':'EventLatitude'}>]], dtype=object)"
      ]
     },
     "execution_count": 32,
     "metadata": {},
     "output_type": "execute_result"
    },
    {
     "data": {
      "image/png": "[encoded data removed]",
      "text/plain": [
       "<Figure size 432x288 with 1 Axes>"
      ]
     },
     "metadata": {
      "needs_background": "light"
     },
     "output_type": "display_data"
    }
   ],
   "source": [
    "bakers_events_df.hist(column='EventLatitude', by=None, grid=True, xlabelsize=None, xrot=None, ylabelsize=None, yrot=None, ax=None, sharex=False, sharey=False, figsize=None, layout=None, bins=50, backend=None)"
   ]
  },
  {
   "cell_type": "code",
   "execution_count": 33,
   "metadata": {},
   "outputs": [],
   "source": [
    "ruh_m = plt.imread('/media/lnr-ai/christo/github_repos/logistics/maps/map.png')"
   ]
  },
  {
   "cell_type": "code",
   "execution_count": null,
   "metadata": {},
   "outputs": [],
   "source": [
    "bakers_events_df['Event Description']"
   ]
  },
  {
   "cell_type": "code",
   "execution_count": 38,
   "metadata": {},
   "outputs": [
    {
     "data": {
      "text/plain": [
       "LabelEncoder()"
      ]
     },
     "execution_count": 38,
     "metadata": {},
     "output_type": "execute_result"
    }
   ],
   "source": [
    "from sklearn import preprocessing\n",
    "le = preprocessing.LabelEncoder()\n",
    "le.fit(bakers_events_df['Event Description'])"
   ]
  },
  {
   "cell_type": "code",
   "execution_count": 41,
   "metadata": {},
   "outputs": [],
   "source": [
    "bakers_events_df['event_encoded']=le.transform(bakers_events_df['Event Description'])"
   ]
  },
  {
   "cell_type": "code",
   "execution_count": 36,
   "metadata": {},
   "outputs": [
    {
     "data": {
      "text/plain": [
       "['EventTypeId',\n",
       " 'DriverId_u0',\n",
       " 'Source',\n",
       " 'GroupId',\n",
       " 'AssetId_u0',\n",
       " 'EventId',\n",
       " 'EventDateTime',\n",
       " 'OdometerKilometres_u0',\n",
       " 'OdometerKilometresEnd_u0',\n",
       " 'EventLongitude',\n",
       " 'EventLatitude',\n",
       " 'EventSpeed',\n",
       " 'Value',\n",
       " 'EventTotalTime',\n",
       " '__KEY_root',\n",
       " 'Armed',\n",
       " 'Priority',\n",
       " 'Name',\n",
       " 'EmployeeNumber',\n",
       " 'Event Description',\n",
       " 'EventDateTime_Conv',\n",
       " 'EventDateTimeSeconds',\n",
       " 'EventDate',\n",
       " 'EventTime',\n",
       " 'EventDateSeconds',\n",
       " 'EventDaySeconds',\n",
       " 'dayofweek']"
      ]
     },
     "execution_count": 36,
     "metadata": {},
     "output_type": "execute_result"
    }
   ],
   "source": [
    "list(bakers_events_df)"
   ]
  },
  {
   "cell_type": "code",
   "execution_count": 47,
   "metadata": {},
   "outputs": [
    {
     "name": "stderr",
     "output_type": "stream",
     "text": [
      "No handles with labels found to put in legend.\n"
     ]
    },
    {
     "name": "stdout",
     "output_type": "stream",
     "text": [
      ".Harsh Braking > 8km/h/s (MV)(Trucks) 1936245   -28.234669\n",
      "1936246   -33.966438\n",
      "1936247   -28.565281\n",
      "1936248   -33.726055\n",
      "1936249   -33.879581\n",
      "             ...    \n",
      "1977345   -22.810440\n",
      "1977346   -27.179270\n",
      "1977347   -23.170309\n",
      "1977348   -33.995472\n",
      "1977349   -27.457666\n",
      "Name: EventLongitude, Length: 41034, dtype: float64 1936245    28.307869\n",
      "1936246    18.556360\n",
      "1936247    29.779360\n",
      "1936248    18.455584\n",
      "1936249    18.522028\n",
      "             ...    \n",
      "1977345    30.551250\n",
      "1977346    28.712566\n",
      "1977347    30.049419\n",
      "1977348    18.639139\n",
      "1977349    32.024834\n",
      "Name: EventLatitude, Length: 41034, dtype: float64\n",
      ".Harsh Braking >10km/h/s (LDV/Fuso F) (MV) 2027794   -29.578279\n",
      "2027795   -26.253441\n",
      "2027796   -26.305059\n",
      "2027797   -26.310579\n",
      "2027798   -25.964081\n",
      "             ...    \n",
      "2045620   -25.182171\n",
      "2045621   -26.179079\n",
      "2045622   -26.254530\n",
      "2045623   -25.137638\n",
      "2045624   -26.347969\n",
      "Name: EventLongitude, Length: 17830, dtype: float64 2027794    30.362080\n",
      "2027795    28.098169\n",
      "2027796    28.112190\n",
      "2027797    28.137529\n",
      "2027798    28.133249\n",
      "             ...    \n",
      "2045620    31.122280\n",
      "2045621    28.267530\n",
      "2045622    28.188190\n",
      "2045623    27.230110\n",
      "2045624    27.883030\n",
      "Name: EventLatitude, Length: 17830, dtype: float64\n",
      "Harsh acceleration (Reports) 2045625   -25.923281\n",
      "2045626   -25.921690\n",
      "2045627   -26.301495\n",
      "2045628   -26.285043\n",
      "2045629   -26.301281\n",
      "             ...    \n",
      "2048628   -26.178690\n",
      "2048629   -25.323360\n",
      "2048630   -25.921860\n",
      "2048631   -26.297224\n",
      "2048632   -26.193549\n",
      "Name: EventLongitude, Length: 2924, dtype: float64 2045625    28.157610\n",
      "2045626    28.133141\n",
      "2045627    28.117038\n",
      "2045628    28.111321\n",
      "2045629    28.116863\n",
      "             ...    \n",
      "2048628    27.762440\n",
      "2048629    31.021469\n",
      "2048630    28.156860\n",
      "2048631    28.115857\n",
      "2048632    28.161021\n",
      "Name: EventLatitude, Length: 2924, dtype: float64\n",
      "Harsh braking (Reports) 1977350   -25.921721\n",
      "1977351   -26.252439\n",
      "1977352   -29.577280\n",
      "1977353   -29.077169\n",
      "1977354   -27.917419\n",
      "             ...    \n",
      "2009928   -26.286971\n",
      "2009929   -26.192343\n",
      "2009930   -25.455030\n",
      "2009931   -29.707670\n",
      "2009932   -25.483471\n",
      "Name: EventLongitude, Length: 32434, dtype: float64 1977350    28.157000\n",
      "1977351    28.131500\n",
      "1977352    30.401079\n",
      "1977353    26.193390\n",
      "1977354    25.154360\n",
      "             ...    \n",
      "2009928    28.101209\n",
      "2009929    28.133124\n",
      "2009930    28.103470\n",
      "2009931    30.496080\n",
      "2009932    30.967859\n",
      "Name: EventLatitude, Length: 32434, dtype: float64\n",
      "Over Speeding (Reports) 0        -23.442751\n",
      "1        -23.630671\n",
      "2        -23.321751\n",
      "3        -23.628330\n",
      "4        -23.238390\n",
      "            ...    \n",
      "810302   -25.764561\n",
      "810303   -34.186989\n",
      "810304   -26.193251\n",
      "810305   -26.033939\n",
      "810306   -25.967920\n",
      "Name: EventLongitude, Length: 807904, dtype: float64 0         29.743860\n",
      "1         29.633860\n",
      "2         29.804140\n",
      "3         29.635530\n",
      "4         29.851250\n",
      "            ...    \n",
      "810302    28.275221\n",
      "810303    19.658449\n",
      "810304    27.950171\n",
      "810305    28.471531\n",
      "810306    28.129919\n",
      "Name: EventLatitude, Length: 807904, dtype: float64\n",
      "Over revving (Reports) 2009962   -29.918077\n",
      "2010005   -29.783603\n",
      "2010060   -30.780846\n",
      "2010174   -28.328850\n",
      "2010219   -26.220281\n",
      "             ...    \n",
      "2026553   -28.911711\n",
      "2026711   -28.994733\n",
      "2026831   -25.985600\n",
      "2027078   -26.464093\n",
      "2027559   -30.727491\n",
      "Name: EventLongitude, Length: 121, dtype: float64 2009962    30.948951\n",
      "2010005    30.710957\n",
      "2010060    30.215311\n",
      "2010174    29.255371\n",
      "2010219    28.129016\n",
      "             ...    \n",
      "2026553    26.454775\n",
      "2026711    26.272838\n",
      "2026831    28.124806\n",
      "2027078    29.347835\n",
      "2027559    30.322614\n",
      "Name: EventLatitude, Length: 121, dtype: float64\n",
      "Road Speed Overspeeding 810307    -23.911921\n",
      "810308    -23.828251\n",
      "810309    -23.368361\n",
      "810310    -23.928694\n",
      "810311    -23.610222\n",
      "             ...    \n",
      "1936240   -23.368361\n",
      "1936241   -25.978390\n",
      "1936242   -26.222555\n",
      "1936243   -23.650080\n",
      "1936244   -23.903055\n",
      "Name: EventLongitude, Length: 1120925, dtype: float64 810307     29.439939\n",
      "810308     30.152081\n",
      "810309     30.523445\n",
      "810310     29.795029\n",
      "810311     29.979000\n",
      "             ...    \n",
      "1936240    30.523670\n",
      "1936241    28.127306\n",
      "1936242    27.695723\n",
      "1936243    27.753220\n",
      "1936244    29.436695\n",
      "Name: EventLatitude, Length: 1120925, dtype: float64\n"
     ]
    },
    {
     "data": {
      "text/plain": [
       "<matplotlib.legend.Legend at 0x7f00d90ce890>"
      ]
     },
     "execution_count": 47,
     "metadata": {},
     "output_type": "execute_result"
    },
    {
     "data": {
      "image/png": "[encoded data removed]",
      "text/plain": [
       "<Figure size 576x504 with 1 Axes>"
      ]
     },
     "metadata": {
      "needs_background": "light"
     },
     "output_type": "display_data"
    }
   ],
   "source": [
    "groups = bakers_events_df.groupby('Event Description')\n",
    "fig, ax = plt.subplots(figsize = (8,7))\n",
    "for name, group in groups:\n",
    "    print(name,group.EventLongitude,group.EventLatitude)\n",
    "    ax.scatter(group.EventLatitude,group.EventLongitude,  zorder=1, alpha= 0.2, c=group.event_encoded, s=10)\n",
    "ax.set_title('Baker event date on South African Map')\n",
    "ax.set_xlim(BBox[2],BBox[3])\n",
    "ax.set_ylim(BBox[0],BBox[1])\n",
    "ax.imshow(ruh_m, zorder=0, extent = BBox, aspect= 'equal')\n",
    "plt.legend()"
   ]
  },
  {
   "cell_type": "code",
   "execution_count": null,
   "metadata": {},
   "outputs": [],
   "source": [
    "    plt.plot(group.x, group.y, marker='o', linestyle='', markersize=12, label=name)\n",
    "\n",
    "plt.legend()"
   ]
  },
  {
   "cell_type": "code",
   "execution_count": 42,
   "metadata": {},
   "outputs": [
    {
     "data": {
      "text/plain": [
       "<matplotlib.image.AxesImage at 0x7f00d99c40d0>"
      ]
     },
     "execution_count": 42,
     "metadata": {},
     "output_type": "execute_result"
    },
    {
     "data": {
      "image/png": "[encoded data removed]",
      "text/plain": [
       "<Figure size 576x504 with 1 Axes>"
      ]
     },
     "metadata": {
      "needs_background": "light"
     },
     "output_type": "display_data"
    }
   ],
   "source": [
    "fig, ax = plt.subplots(figsize = (8,7))\n",
    "ax.scatter(bakers_events_df.EventLatitude,bakers_events_df.EventLongitude,  zorder=1, alpha= 0.2, c=bakers_events_df['event_encoded'], s=10)\n",
    "ax.set_title('Baker event date on South African Map')\n",
    "ax.set_xlim(BBox[2],BBox[3])\n",
    "ax.set_ylim(BBox[0],BBox[1])\n",
    "ax.imshow(ruh_m, zorder=0, extent = BBox, aspect= 'equal')"
   ]
  },
  {
   "cell_type": "code",
   "execution_count": 35,
   "metadata": {},
   "outputs": [
    {
     "data": {
      "text/plain": [
       "<matplotlib.image.AxesImage at 0x7f00d9096610>"
      ]
     },
     "execution_count": 35,
     "metadata": {},
     "output_type": "execute_result"
    },
    {
     "data": {
      "image/png": "[encoded data removed]",
      "text/plain": [
       "<Figure size 576x504 with 1 Axes>"
      ]
     },
     "metadata": {
      "needs_background": "light"
     },
     "output_type": "display_data"
    }
   ],
   "source": [
    "fig, ax = plt.subplots(figsize = (8,7))\n",
    "ax.scatter(bakers_events_df.EventLongitude, bakers_events_df.EventLatitude, zorder=1, alpha= 0.2, c='b', s=10)\n",
    "ax.set_title('Plotting Spatial Data on Riyadh Map')\n",
    "ax.set_xlim(BBox[2],BBox[3])\n",
    "ax.set_ylim(BBox[0],BBox[1])\n",
    "ax.imshow(ruh_m, zorder=0, extent = BBox, aspect= 'equal')"
   ]
  },
  {
   "cell_type": "markdown",
   "metadata": {},
   "source": [
    "### Aggregation and Pivotting:"
   ]
  },
  {
   "cell_type": "markdown",
   "metadata": {},
   "source": [
    "1.The following Pivots the bakers_events_df dataframe on DriverId_u0 (so by driver) to reveal the total duration all instances of a particular type of event for a certain driver and assigns to driver_event_duration_df:"
   ]
  },
  {
   "cell_type": "code",
   "execution_count": null,
   "metadata": {},
   "outputs": [],
   "source": [
    "driver_event_duration_df=pd.pivot_table(bakers_events_df, values='EventTotalTime', \n",
    "                    index=['EmployeeNumber'], \n",
    "                    columns='Event Description',\n",
    "                    aggfunc='sum')"
   ]
  },
  {
   "cell_type": "markdown",
   "metadata": {},
   "source": [
    "Rename columns with a duration prefix:"
   ]
  },
  {
   "cell_type": "code",
   "execution_count": null,
   "metadata": {},
   "outputs": [],
   "source": [
    "driver_event_duration_list=list(driver_event_duration_df)\n",
    "rename_dict={}\n",
    "for column_name in driver_event_duration_list:\n",
    "    rename_dict[column_name]=column_name+'_duration'\n",
    "driver_event_duration_df.rename(columns=rename_dict,inplace=True)"
   ]
  },
  {
   "cell_type": "code",
   "execution_count": null,
   "metadata": {},
   "outputs": [],
   "source": [
    "driver_event_duration_df.fillna(0,inplace=True)"
   ]
  },
  {
   "cell_type": "markdown",
   "metadata": {},
   "source": [
    "2.Create the aggregation on count:"
   ]
  },
  {
   "cell_type": "code",
   "execution_count": null,
   "metadata": {},
   "outputs": [],
   "source": [
    "driver_event_count_df=pd.pivot_table(bakers_events_df, values='EventTotalTime', \n",
    "                    index=['EmployeeNumber'], \n",
    "                    columns='Event Description',\n",
    "                    aggfunc='count')"
   ]
  },
  {
   "cell_type": "markdown",
   "metadata": {},
   "source": [
    "Rename columns with a \\_count postfix:"
   ]
  },
  {
   "cell_type": "code",
   "execution_count": null,
   "metadata": {},
   "outputs": [],
   "source": [
    "driver_event_count_list=list(driver_event_count_df)\n",
    "rename_dict={}\n",
    "for column_name in driver_event_count_list:\n",
    "    rename_dict[column_name]=column_name+'_count'\n",
    "driver_event_count_df.rename(columns=rename_dict,inplace=True)"
   ]
  },
  {
   "cell_type": "code",
   "execution_count": null,
   "metadata": {},
   "outputs": [],
   "source": [
    "driver_event_count_df.fillna(0,inplace=True)"
   ]
  },
  {
   "cell_type": "markdown",
   "metadata": {},
   "source": [
    "3.Create aggregation on the maximum duration:"
   ]
  },
  {
   "cell_type": "code",
   "execution_count": null,
   "metadata": {},
   "outputs": [],
   "source": [
    "driver_event_maxduration_df=pd.pivot_table(bakers_events_df, values='EventTotalTime', \n",
    "                    index=['EmployeeNumber'], \n",
    "                    columns='Event Description',\n",
    "                    aggfunc='max')"
   ]
  },
  {
   "cell_type": "code",
   "execution_count": null,
   "metadata": {},
   "outputs": [],
   "source": [
    "driver_event_maxduration_list=list(driver_event_maxduration_df)\n",
    "rename_dict={}\n",
    "for column_name in driver_event_maxduration_list:\n",
    "    rename_dict[column_name]=column_name+'_max'\n",
    "driver_event_maxduration_df.rename(columns=rename_dict,inplace=True)"
   ]
  },
  {
   "cell_type": "code",
   "execution_count": null,
   "metadata": {},
   "outputs": [],
   "source": [
    "driver_event_maxduration_df.fillna(0,inplace=True)"
   ]
  },
  {
   "cell_type": "code",
   "execution_count": null,
   "metadata": {},
   "outputs": [],
   "source": [
    "driver_event_meanduration_df=pd.pivot_table(bakers_events_df, values='EventTotalTime', \n",
    "                    index=['EmployeeNumber'], \n",
    "                    columns='Event Description',\n",
    "                    aggfunc='mean')"
   ]
  },
  {
   "cell_type": "code",
   "execution_count": null,
   "metadata": {},
   "outputs": [],
   "source": [
    "driver_event_meanduration_list=list(driver_event_meanduration_df)\n",
    "rename_dict={}\n",
    "for column_name in driver_event_maxduration_list:\n",
    "    rename_dict[column_name]=column_name+'_mean'\n",
    "driver_event_meanduration_df.rename(columns=rename_dict,inplace=True)"
   ]
  },
  {
   "cell_type": "code",
   "execution_count": null,
   "metadata": {},
   "outputs": [],
   "source": [
    "driver_event_meanduration_df.fillna(0,inplace=True)"
   ]
  },
  {
   "cell_type": "markdown",
   "metadata": {},
   "source": [
    "Merge the duration,count,max and mean dataframes:"
   ]
  },
  {
   "cell_type": "code",
   "execution_count": null,
   "metadata": {},
   "outputs": [],
   "source": [
    "driver_event_df=driver_event_count_df.merge(driver_event_duration_df,left_index=True,right_index=True)\n",
    "driver_event_df=driver_event_df.merge(driver_event_maxduration_df,left_index=True,right_index=True)\n",
    "driver_event_df=driver_event_df.merge(driver_event_meanduration_df,left_index=True,right_index=True)"
   ]
  },
  {
   "cell_type": "code",
   "execution_count": null,
   "metadata": {},
   "outputs": [],
   "source": [
    "driver_event_df.head()"
   ]
  },
  {
   "cell_type": "code",
   "execution_count": null,
   "metadata": {},
   "outputs": [],
   "source": [
    "event_employee_list=list(set(bakers_events_df[~bakers_events_df['EmployeeNumber'].isnull()]['EmployeeNumber']))"
   ]
  },
  {
   "cell_type": "code",
   "execution_count": null,
   "metadata": {},
   "outputs": [],
   "source": [
    "driver_event_df.shape"
   ]
  },
  {
   "cell_type": "code",
   "execution_count": null,
   "metadata": {},
   "outputs": [],
   "source": [
    "driver_event_df.reset_index(inplace=True)"
   ]
  },
  {
   "cell_type": "markdown",
   "metadata": {},
   "source": [
    "### Load the accident log:"
   ]
  },
  {
   "cell_type": "code",
   "execution_count": null,
   "metadata": {},
   "outputs": [],
   "source": [
    "filename='Copy of Accident Log.xlsx'\n",
    "sheet_name='BT L'\n",
    "# sheet_name='Fuel Consumption & Events Data'\n",
    "accident_log_df=pd.read_excel('/media/lnr-ai/christo/github_repos/logistics/data/{filename}'.format(filename=filename), sheet_name=sheet_name)"
   ]
  },
  {
   "cell_type": "code",
   "execution_count": null,
   "metadata": {},
   "outputs": [],
   "source": [
    "accident_log_df=accident_log_df[~accident_log_df['Mix Id Match'].isnull()].copy()\n",
    "accident_log_df.shape"
   ]
  },
  {
   "cell_type": "code",
   "execution_count": null,
   "metadata": {},
   "outputs": [],
   "source": [
    "list(accident_log_df)"
   ]
  },
  {
   "cell_type": "code",
   "execution_count": null,
   "metadata": {},
   "outputs": [],
   "source": [
    "max(accident_log_df['Date Of Accident'])"
   ]
  },
  {
   "cell_type": "code",
   "execution_count": null,
   "metadata": {},
   "outputs": [],
   "source": [
    "# Remove 'T' from the Event Date Time column:\n",
    "accident_log_df['EventDateTime']=accident_log_df['EventDateTime'].str.replace('T', ' ', regex=False)\n",
    "# Remove '.000' from the Event Date Time column:\n",
    "bakers_events_df['EventDateTime']=bakers_events_df['EventDateTime'].str.replace('.000', '', regex=False)\n",
    "bakers_events_df['EventDateTime_Conv']=bakers_events_df['EventDateTime'].apply(lambda x: (datetime.datetime.strptime(x, \"%Y-%m-%d %H:%M:%S\")))\n",
    "bakers_events_df['EventDateTimeSeconds']=bakers_events_df['EventDateTime_Conv'].astype(int)\n",
    "# Create date and time columns from EventDateTime:\n",
    "bakers_events_df[['EventDate','EventTime']]=bakers_events_df['EventDateTime'].str.split(' ', expand=True)"
   ]
  },
  {
   "cell_type": "code",
   "execution_count": null,
   "metadata": {},
   "outputs": [],
   "source": [
    "bakers_events_df['EventDate']=bakers_events_df['EventDate'].apply(lambda x: (datetime.datetime.strptime(x, \"%Y-%m-%d\")))"
   ]
  },
  {
   "cell_type": "markdown",
   "metadata": {},
   "source": [
    "Create the EventDateSeconds column.  This is the number of seconds since the start of the day.  From here we can work out the time of day for any event."
   ]
  },
  {
   "cell_type": "code",
   "execution_count": null,
   "metadata": {},
   "outputs": [],
   "source": [
    "bakers_events_df['EventDateSeconds']=bakers_events_df['EventDate'].astype(int)\n",
    "bakers_events_df['EventDateSeconds']=bakers_events_df['EventDateSeconds'].astype(int)"
   ]
  },
  {
   "cell_type": "code",
   "execution_count": null,
   "metadata": {},
   "outputs": [],
   "source": [
    "bakers_events_df['EventDateSeconds']"
   ]
  },
  {
   "cell_type": "code",
   "execution_count": null,
   "metadata": {},
   "outputs": [],
   "source": [
    "bakers_events_df['EventDaySeconds']=(bakers_events_df['EventDateTimeSeconds']-bakers_events_df['EventDateSeconds'])/10e8\n",
    "bakers_events_df['EventDaySeconds']=bakers_events_df['EventDaySeconds'].astype(int)"
   ]
  },
  {
   "cell_type": "code",
   "execution_count": null,
   "metadata": {},
   "outputs": [],
   "source": [
    "bakers_events_df['EventDaySeconds']"
   ]
  },
  {
   "cell_type": "code",
   "execution_count": null,
   "metadata": {},
   "outputs": [],
   "source": [
    "bakers_events_df['dayofweek']=bakers_events_df['EventDateTime_Conv'].dt.dayofweek"
   ]
  },
  {
   "cell_type": "code",
   "execution_count": null,
   "metadata": {},
   "outputs": [],
   "source": []
  },
  {
   "cell_type": "code",
   "execution_count": null,
   "metadata": {},
   "outputs": [],
   "source": [
    "accident_log_list=list(accident_log_df)"
   ]
  },
  {
   "cell_type": "code",
   "execution_count": null,
   "metadata": {},
   "outputs": [],
   "source": [
    "# accident_log_df.merge(bakers_events_df,left_on='Emp No',right_on='EmployeeNumber')"
   ]
  },
  {
   "cell_type": "code",
   "execution_count": null,
   "metadata": {},
   "outputs": [],
   "source": [
    "bakers_events_df.dtypes"
   ]
  },
  {
   "cell_type": "code",
   "execution_count": null,
   "metadata": {},
   "outputs": [],
   "source": [
    "accident_log_df.dtypes"
   ]
  },
  {
   "cell_type": "code",
   "execution_count": null,
   "metadata": {},
   "outputs": [],
   "source": [
    "accident_log_df['Mix Id Match']=accident_log_df['Mix Id Match'].astype(int)"
   ]
  },
  {
   "cell_type": "code",
   "execution_count": null,
   "metadata": {},
   "outputs": [],
   "source": [
    "accident_log_list=['Mix EmployeeNo',\n",
    " 'MiX Employee Name',\n",
    " 'Mix Id Match',\n",
    " 'Claim No.',\n",
    " 'Emp No',\n",
    " 'ID Number',\n",
    " 'Date Of Accident',\n",
    " 'Date Reported',\n",
    " 'Time',\n",
    " 'Full Accident Details',\n",
    " 'Severity Indication',\n",
    " 'Horse Reg',\n",
    " 'T1 Reg',\n",
    " 'T2 Reg',\n",
    " 'Asset No. Horse',\n",
    " 'Asset No. T1',\n",
    " 'Asset No. T2',\n",
    " 'Loaded From',\n",
    " 'Loaded With',\n",
    " 'Destined To',\n",
    " 'Customer KPI Infringement',\n",
    " 'Vehicle Type',\n",
    " 'Vehicle Category',\n",
    " 'Vehicle Site',\n",
    " 'Driver Name',\n",
    " 'Driver Based At',\n",
    " 'Age',\n",
    " 'Date of Employment',\n",
    " 'Years employed at Bakers',\n",
    " 'Place',\n",
    " 'Province',\n",
    " 'City/Town',\n",
    " 'Highway/Street Name',\n",
    " 'Driver Injury',\n",
    " 'Driver Fatality',\n",
    " 'T/P Injury',\n",
    " 'T/P Fatality',\n",
    " 'Pedestrian Injury',\n",
    " 'Pedestrian Fatality',\n",
    " 'Potential Negligence',\n",
    " 'Road Condition',\n",
    " 'Root Cause Category',\n",
    " 'Root Cause Analysis',\n",
    " 'Description Catergory',\n",
    " 'Avoidance (Added)',\n",
    " 'Negligence (Added)',\n",
    " 'RTMS Related (Added)',\n",
    " 'Event',\n",
    " 'Damage/s/d',\n",
    " 'Est Cost of Accident (Incl Damage Control & 3rd Party Damages)',\n",
    " 'EXCESS (Primary)',\n",
    " 'SECTION II EXCESS',\n",
    " 'SETTLEMENT',\n",
    " 'TP SETTLED',\n",
    " 'OUTSTANDING',\n",
    " 'TP/OWN RECOVERY',\n",
    " 'SALVAGE WORTH',\n",
    " 'Minor Damages & Damage Control (Bakers Personal Capacity)',\n",
    " 'SALVAGE EST SELLING PRICE']"
   ]
  },
  {
   "cell_type": "code",
   "execution_count": null,
   "metadata": {},
   "outputs": [],
   "source": [
    "# fname='Bakers_Events.csv'\n",
    "# Bakers_Events_df=pd.read_csv(filepath_or_buffer='/media/lnr-ai/christo/github_repos/logistics/data/{fname}'.format(fname=fname))"
   ]
  },
  {
   "cell_type": "markdown",
   "metadata": {},
   "source": [
    "Create a list of unique employees in the accident dataframe:"
   ]
  },
  {
   "cell_type": "code",
   "execution_count": null,
   "metadata": {},
   "outputs": [],
   "source": [
    "accident_employee_list=list(set(accident_log_df['Emp No']))"
   ]
  },
  {
   "cell_type": "code",
   "execution_count": null,
   "metadata": {},
   "outputs": [],
   "source": [
    "len(accident_employee_list)"
   ]
  },
  {
   "cell_type": "code",
   "execution_count": null,
   "metadata": {},
   "outputs": [],
   "source": [
    "len(intersection(lst1=event_employee_list, lst2=accident_employee_list))"
   ]
  },
  {
   "cell_type": "code",
   "execution_count": null,
   "metadata": {},
   "outputs": [],
   "source": [
    "len(event_employee_list)"
   ]
  },
  {
   "cell_type": "code",
   "execution_count": null,
   "metadata": {},
   "outputs": [],
   "source": [
    "1-64/926"
   ]
  },
  {
   "cell_type": "markdown",
   "metadata": {},
   "source": [
    "Create a list of unique employees in the accident report and ALSO in the event dataframe:"
   ]
  },
  {
   "cell_type": "code",
   "execution_count": null,
   "metadata": {},
   "outputs": [],
   "source": [
    "accident_event_employee_list=intersection(lst1=event_employee_list, lst2=accident_employee_list)"
   ]
  },
  {
   "cell_type": "code",
   "execution_count": null,
   "metadata": {},
   "outputs": [],
   "source": [
    "driver_event_df['accident']=0"
   ]
  },
  {
   "cell_type": "code",
   "execution_count": null,
   "metadata": {},
   "outputs": [],
   "source": [
    "driver_event_df.loc[driver_event_df['EmployeeNumber'].isin(accident_event_employee_list),'accident']=1"
   ]
  },
  {
   "cell_type": "code",
   "execution_count": null,
   "metadata": {},
   "outputs": [],
   "source": [
    "driver_event_df.shape"
   ]
  },
  {
   "cell_type": "code",
   "execution_count": null,
   "metadata": {},
   "outputs": [],
   "source": [
    "list(driver_event_df)"
   ]
  },
  {
   "cell_type": "code",
   "execution_count": null,
   "metadata": {},
   "outputs": [],
   "source": [
    "driver_event_df.to_csv('/media/lnr-ai/christo/github_repos/logistics/data/driver_event_train_df.csv',index=False)"
   ]
  },
  {
   "cell_type": "code",
   "execution_count": null,
   "metadata": {},
   "outputs": [],
   "source": [
    "accident_log_df[accident_log_df['Emp No']==accident_event_employee_list[1]]"
   ]
  },
  {
   "cell_type": "code",
   "execution_count": null,
   "metadata": {},
   "outputs": [],
   "source": [
    "min(bakers_events_df[bakers_events_df.EmployeeNumber==accident_event_employee_list[1]]['EventDateTime'])"
   ]
  },
  {
   "cell_type": "markdown",
   "metadata": {},
   "source": [
    "### -----------------------------------------------------------------------------------------------------------------"
   ]
  },
  {
   "cell_type": "code",
   "execution_count": null,
   "metadata": {},
   "outputs": [],
   "source": [
    "Bakers_Events_df.EventLongitude"
   ]
  },
  {
   "cell_type": "code",
   "execution_count": null,
   "metadata": {},
   "outputs": [],
   "source": [
    "set(Bakers_Events_df['Event Description'])"
   ]
  },
  {
   "cell_type": "code",
   "execution_count": null,
   "metadata": {},
   "outputs": [],
   "source": [
    "list(Bakers_Events_df)"
   ]
  },
  {
   "cell_type": "code",
   "execution_count": null,
   "metadata": {},
   "outputs": [],
   "source": [
    "pd.pivot_table(Bakers_Events_df, values='EventTotalTime', \n",
    "                    index=['DriverId_u0'], \n",
    "                    columns='Event Description',\n",
    "                    aggfunc='sum')"
   ]
  },
  {
   "cell_type": "code",
   "execution_count": null,
   "metadata": {},
   "outputs": [],
   "source": [
    "# Using readline() \n",
    "file_name='/media/lnr-ai/christo/github_repos/logistics/data/{fname}'.format(fname=fname)"
   ]
  },
  {
   "cell_type": "code",
   "execution_count": null,
   "metadata": {},
   "outputs": [],
   "source": [
    "file1 = open(file_name, 'r') \n",
    "count = 0\n",
    "  \n",
    "while count<1000: \n",
    "    count += 1\n",
    "  \n",
    "    # Get next line from file \n",
    "    line = file1.readline() \n",
    "  \n",
    "    # if line is empty \n",
    "    # end of file is reached \n",
    "    if not line: \n",
    "        break\n",
    "    print(\"Line{}: {}\".format(count, line.strip())) \n",
    "  \n",
    "file1.close() "
   ]
  },
  {
   "cell_type": "code",
   "execution_count": null,
   "metadata": {},
   "outputs": [],
   "source": [
    "pd.read_html(io=file_name)"
   ]
  },
  {
   "cell_type": "code",
   "execution_count": null,
   "metadata": {},
   "outputs": [],
   "source": [
    "print(file_name)"
   ]
  },
  {
   "cell_type": "code",
   "execution_count": null,
   "metadata": {},
   "outputs": [],
   "source": [
    "import xml.etree.ElementTree as ET"
   ]
  },
  {
   "cell_type": "code",
   "execution_count": null,
   "metadata": {},
   "outputs": [],
   "source": [
    "parse = ET.parse(file_name)"
   ]
  },
  {
   "cell_type": "code",
   "execution_count": null,
   "metadata": {},
   "outputs": [],
   "source": [
    "from bs4 import BeautifulSoup\n",
    "\n",
    "with open(file_name) as fp:\n",
    "#     soup = BeautifulSoup(fp, 'xml')\n",
    "    soup = BeautifulSoup(fp, 'lxml',from_encoding='Latin-1')"
   ]
  },
  {
   "cell_type": "code",
   "execution_count": null,
   "metadata": {},
   "outputs": [],
   "source": [
    "fname='Site.csv (txt)'\n",
    "fname='Organisation.csv (txt)'\n",
    "file_name='/media/lnr-ai/christo/github_repos/logistics/data/{fname}'.format(fname=fname)"
   ]
  },
  {
   "cell_type": "code",
   "execution_count": null,
   "metadata": {},
   "outputs": [],
   "source": [
    "from bs4 import BeautifulSoup\n",
    "\n",
    "with open(file_name) as fp:\n",
    "#     soup = BeautifulSoup(fp, 'xml')\n",
    "    soup = BeautifulSoup(fp, 'xml')"
   ]
  },
  {
   "cell_type": "code",
   "execution_count": null,
   "metadata": {},
   "outputs": [],
   "source": [
    "soup"
   ]
  },
  {
   "cell_type": "code",
   "execution_count": null,
   "metadata": {},
   "outputs": [],
   "source": [
    "print(soup.prettify())"
   ]
  },
  {
   "cell_type": "code",
   "execution_count": null,
   "metadata": {},
   "outputs": [],
   "source": [
    "pd.read_html(file_name)"
   ]
  },
  {
   "cell_type": "code",
   "execution_count": null,
   "metadata": {},
   "outputs": [],
   "source": []
  }
 ],
 "metadata": {
  "kernelspec": {
   "display_name": "Python 3",
   "language": "python",
   "name": "python3"
  },
  "language_info": {
   "codemirror_mode": {
    "name": "ipython",
    "version": 3
   },
   "file_extension": ".py",
   "mimetype": "text/x-python",
   "name": "python",
   "nbconvert_exporter": "python",
   "pygments_lexer": "ipython3",
   "version": "3.7.9"
  }
 },
 "nbformat": 4,
 "nbformat_minor": 4
}
